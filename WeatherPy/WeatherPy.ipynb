{
 "cells": [
  {
   "cell_type": "markdown",
   "metadata": {},
   "source": [
    "# WeatherPy\n",
    "----\n",
    "\n",
    "#### Note\n",
    "* Instructions have been included for each segment. You do not have to follow them exactly, but they are included to help you think through the steps."
   ]
  },
  {
   "cell_type": "code",
   "execution_count": 59,
   "metadata": {
    "scrolled": true
   },
   "outputs": [],
   "source": [
    "# Dependencies and Setup\n",
    "import matplotlib.pyplot as plt\n",
    "import pandas as pd\n",
    "import numpy as np\n",
    "import requests\n",
    "import time\n",
    "from scipy.stats import linregress\n",
    "from scipy.stats import pearsonr\n",
    "import os\n",
    "from datetime import date\n",
    "from pprint import pprint\n",
    "from scipy import misc\n",
    "import matplotlib.pyplot as plt\n",
    "\n",
    "\n",
    "\n",
    "try:\n",
    "    import scipy.stats\n",
    "except:\n",
    "    import pip\n",
    "    pip.main([\"install\",\"scipy.stats\"])\n",
    "    import scipy.stats\n",
    "\n",
    "\n",
    "\n",
    "\n",
    "# Import API key\n",
    "from api_keys import weather_api_key\n",
    "\n",
    "# Incorporated citipy to determine city based on latitude and longitude\n",
    "from citipy import citipy\n",
    "\n",
    "# Output File (CSV)\n",
    "output_data_file = \"../output_data/cities.csv\"\n",
    "\n",
    "# Range of latitudes and longitudes\n",
    "lat_range = (-90, 90)\n",
    "lng_range = (-180, 180)"
   ]
  },
  {
   "cell_type": "markdown",
   "metadata": {},
   "source": [
    "## Generate Cities List"
   ]
  },
  {
   "cell_type": "code",
   "execution_count": 3,
   "metadata": {},
   "outputs": [
    {
     "data": {
      "text/plain": [
       "643"
      ]
     },
     "execution_count": 3,
     "metadata": {},
     "output_type": "execute_result"
    }
   ],
   "source": [
    "# List for holding lat_lngs and cities\n",
    "lat_lngs = []\n",
    "cities = []\n",
    "\n",
    "# Create a set of random lat and lng combinations\n",
    "lats = np.random.uniform(lat_range[0], lat_range[1], size=1500)\n",
    "lngs = np.random.uniform(lng_range[0], lng_range[1], size=1500)\n",
    "lat_lngs = zip(lats, lngs)\n",
    "\n",
    "# Identify nearest city for each lat, lng combination\n",
    "for lat_lng in lat_lngs:\n",
    "    city = citipy.nearest_city(lat_lng[0], lat_lng[1]).city_name\n",
    "    \n",
    "    # If the city is unique, then add it to a our cities list\n",
    "    if city not in cities:\n",
    "        cities.append(city)\n",
    "\n",
    "# Print the city count to confirm sufficient count\n",
    "len(cities)"
   ]
  },
  {
   "cell_type": "markdown",
   "metadata": {},
   "source": [
    "### Perform API Calls\n",
    "* Perform a weather check on each city using a series of successive API calls.\n",
    "* Include a print log of each city as it'sbeing processed (with the city number and city name).\n"
   ]
  },
  {
   "cell_type": "code",
   "execution_count": 7,
   "metadata": {
    "scrolled": true
   },
   "outputs": [
    {
     "name": "stdout",
     "output_type": "stream",
     "text": [
      "Beginning Data Retrieval\n",
      "---------------------------------------------------\n",
      "Processing Record 1 of Set 1 | Puerto Ayora\n",
      "Processing Record 2 of Set 1 | Upernavik\n",
      "Processing Record 3 of Set 1 | Leiyang\n",
      "City not found. Skipping...\n",
      "City not found. Skipping...\n",
      "Processing Record 4 of Set 1 | Ushuaia\n",
      "Processing Record 5 of Set 1 | Bluff\n",
      "Processing Record 6 of Set 1 | Arona\n",
      "Processing Record 7 of Set 1 | Puerto Escondido\n",
      "Processing Record 8 of Set 1 | Airai\n",
      "City not found. Skipping...\n",
      "Processing Record 9 of Set 1 | Saint-Philippe\n",
      "Processing Record 10 of Set 1 | Iralaya\n",
      "Processing Record 11 of Set 1 | Pandan\n",
      "Processing Record 12 of Set 1 | East London\n",
      "Processing Record 13 of Set 1 | Hobyo\n",
      "Processing Record 14 of Set 1 | Mahébourg\n",
      "Processing Record 15 of Set 1 | Nanortalik\n",
      "City not found. Skipping...\n",
      "Processing Record 16 of Set 1 | Saint Paul Harbor\n",
      "Processing Record 17 of Set 1 | Albany\n",
      "Processing Record 18 of Set 1 | Vytegra\n",
      "City not found. Skipping...\n",
      "Processing Record 19 of Set 1 | Hermanus\n",
      "City not found. Skipping...\n",
      "Processing Record 20 of Set 1 | Mossamedes\n",
      "Processing Record 21 of Set 1 | Rikitea\n",
      "Processing Record 22 of Set 1 | Baharly\n",
      "Processing Record 23 of Set 1 | Mana\n",
      "Processing Record 24 of Set 1 | Thompson\n",
      "Processing Record 25 of Set 1 | Włodawa\n",
      "City not found. Skipping...\n",
      "Processing Record 26 of Set 1 | Sasso Marconi\n",
      "Processing Record 27 of Set 1 | Hobart\n",
      "Processing Record 28 of Set 1 | Kingsville\n",
      "Processing Record 29 of Set 1 | Mehamn\n",
      "Processing Record 30 of Set 1 | Butaritari\n",
      "Processing Record 31 of Set 1 | Hilo\n",
      "Processing Record 32 of Set 1 | Kavieng\n",
      "Processing Record 33 of Set 1 | Busselton\n",
      "Processing Record 34 of Set 1 | Vyartsilya\n",
      "Processing Record 35 of Set 1 | Te Anau\n",
      "Processing Record 36 of Set 1 | Bauchi\n",
      "Processing Record 37 of Set 1 | Lubao\n",
      "Processing Record 38 of Set 1 | Ylivieska\n",
      "Processing Record 39 of Set 1 | Mitú\n",
      "Processing Record 40 of Set 1 | Cairns\n",
      "Processing Record 41 of Set 1 | Faanui\n",
      "Processing Record 42 of Set 1 | Yangi Marg`ilon\n",
      "City not found. Skipping...\n",
      "Processing Record 43 of Set 1 | Chui\n",
      "Processing Record 44 of Set 1 | Sitka\n",
      "Processing Record 45 of Set 1 | Geretsried\n",
      "Processing Record 46 of Set 1 | Nikolskoye\n",
      "Processing Record 47 of Set 1 | Lubyany\n",
      "Processing Record 48 of Set 1 | Hasaki\n",
      "Processing Record 49 of Set 1 | Pevek\n",
      "Processing Record 50 of Set 1 | Arrondissement de Troyes\n",
      "City not found. Skipping...\n",
      "Processing Record 0 of Set 2 | Lagoa\n",
      "Processing Record 1 of Set 2 | Tuatapere\n",
      "Processing Record 2 of Set 2 | Mahon\n",
      "Processing Record 3 of Set 2 | Muramatsu\n",
      "Processing Record 4 of Set 2 | Cape Town\n",
      "Processing Record 5 of Set 2 | Mataura\n",
      "Processing Record 6 of Set 2 | Saskylakh\n",
      "Processing Record 7 of Set 2 | Mwene-Ditu\n",
      "Processing Record 8 of Set 2 | Chokurdakh\n",
      "Processing Record 9 of Set 2 | Arraial do Cabo\n",
      "Processing Record 10 of Set 2 | Moree\n",
      "Processing Record 11 of Set 2 | Banda Aceh\n",
      "Processing Record 12 of Set 2 | Tsiroanomandidy\n",
      "Processing Record 13 of Set 2 | Ucluelet\n",
      "Processing Record 14 of Set 2 | Vaini\n",
      "Processing Record 15 of Set 2 | George Town\n",
      "Processing Record 16 of Set 2 | Barrow\n",
      "City not found. Skipping...\n",
      "Processing Record 17 of Set 2 | Punta Arenas\n",
      "Processing Record 18 of Set 2 | Bubaque\n",
      "Processing Record 19 of Set 2 | Guerrero Negro\n",
      "Processing Record 20 of Set 2 | Yulara\n",
      "Processing Record 21 of Set 2 | Kokopo\n",
      "Processing Record 22 of Set 2 | Mar del Plata\n",
      "Processing Record 23 of Set 2 | Ribeira Grande\n",
      "Processing Record 24 of Set 2 | Magaria\n",
      "Processing Record 25 of Set 2 | Tavda\n",
      "Processing Record 26 of Set 2 | Carnarvon\n",
      "Processing Record 27 of Set 2 | Bani Walid\n",
      "Processing Record 28 of Set 2 | Tuktoyaktuk\n",
      "Processing Record 29 of Set 2 | Bredasdorp\n",
      "Processing Record 30 of Set 2 | Pangai\n",
      "Processing Record 31 of Set 2 | Yar-Sale\n",
      "Processing Record 32 of Set 2 | Westport\n",
      "Processing Record 33 of Set 2 | Qaanaaq\n",
      "City not found. Skipping...\n",
      "Processing Record 34 of Set 2 | Souillac\n",
      "Processing Record 35 of Set 2 | Lorengau\n",
      "Processing Record 36 of Set 2 | Kidal\n",
      "Processing Record 37 of Set 2 | Magpet\n",
      "Processing Record 38 of Set 2 | Bintulu\n",
      "Processing Record 39 of Set 2 | Constitución\n",
      "Processing Record 40 of Set 2 | Indian Head\n",
      "City not found. Skipping...\n",
      "Processing Record 41 of Set 2 | Krasnosel'kup\n",
      "Processing Record 42 of Set 2 | Arlit\n",
      "Processing Record 43 of Set 2 | Port-Gentil\n",
      "Processing Record 44 of Set 2 | Totskoye\n",
      "City not found. Skipping...\n",
      "Processing Record 45 of Set 2 | Nemuro\n",
      "Processing Record 46 of Set 2 | Shanhecun\n",
      "City not found. Skipping...\n",
      "Processing Record 47 of Set 2 | Severo-Kuril'sk\n",
      "Processing Record 48 of Set 2 | Northam\n",
      "Processing Record 49 of Set 2 | Tortolì\n",
      "Processing Record 50 of Set 2 | Cidreira\n",
      "Processing Record 0 of Set 3 | Geraldton\n",
      "City not found. Skipping...\n",
      "Processing Record 1 of Set 3 | Tasiilaq\n",
      "Processing Record 2 of Set 3 | Amapá\n",
      "Processing Record 3 of Set 3 | Atuona\n",
      "Processing Record 4 of Set 3 | Chkalovsk\n",
      "Processing Record 5 of Set 3 | Torbay\n",
      "Processing Record 6 of Set 3 | Chapais\n",
      "Processing Record 7 of Set 3 | Portland\n",
      "Processing Record 8 of Set 3 | Amursk\n",
      "Processing Record 9 of Set 3 | Yellowknife\n",
      "Processing Record 10 of Set 3 | Port Elizabeth\n",
      "Processing Record 11 of Set 3 | Shache\n",
      "Processing Record 12 of Set 3 | Denton\n",
      "Processing Record 13 of Set 3 | Langsa\n",
      "Processing Record 14 of Set 3 | Ahipara\n",
      "Processing Record 15 of Set 3 | Hithadhoo\n",
      "Processing Record 16 of Set 3 | Xuanzhou\n",
      "Processing Record 17 of Set 3 | Kumul\n",
      "Processing Record 18 of Set 3 | Leningradskiy\n",
      "Processing Record 19 of Set 3 | Port Moresby\n",
      "Processing Record 20 of Set 3 | Kalevala\n",
      "Processing Record 21 of Set 3 | Bonavista\n",
      "Processing Record 22 of Set 3 | Liverpool\n",
      "Processing Record 23 of Set 3 | Gamba\n",
      "Processing Record 24 of Set 3 | Aklavik\n",
      "Processing Record 25 of Set 3 | Kyshtovka\n",
      "Processing Record 26 of Set 3 | Kiryat Gat\n",
      "Processing Record 27 of Set 3 | Narsaq\n",
      "Processing Record 28 of Set 3 | Fuerte Olimpo\n",
      "City not found. Skipping...\n",
      "Processing Record 29 of Set 3 | Esperance\n",
      "Processing Record 30 of Set 3 | Sergeevka\n",
      "Processing Record 31 of Set 3 | Inhambane\n",
      "Processing Record 32 of Set 3 | Araouane\n",
      "Processing Record 33 of Set 3 | Tartagal\n",
      "Processing Record 34 of Set 3 | Hokitika\n",
      "Processing Record 35 of Set 3 | Burnie\n",
      "City not found. Skipping...\n",
      "Processing Record 36 of Set 3 | Caravelas\n",
      "Processing Record 37 of Set 3 | Plainview\n",
      "Processing Record 38 of Set 3 | Marrakesh\n",
      "Processing Record 39 of Set 3 | Laguna\n",
      "Processing Record 40 of Set 3 | Wamba\n",
      "Processing Record 41 of Set 3 | Mahibadhoo\n",
      "Processing Record 42 of Set 3 | Yandyki\n",
      "Processing Record 43 of Set 3 | Dikson\n",
      "Processing Record 44 of Set 3 | Adrar\n",
      "Processing Record 45 of Set 3 | Sur\n",
      "Processing Record 46 of Set 3 | Tura\n",
      "Processing Record 47 of Set 3 | Eureka\n",
      "Processing Record 48 of Set 3 | Ust-Kuyga\n",
      "Processing Record 49 of Set 3 | Husavik\n",
      "Processing Record 50 of Set 3 | Kalach-na-Donu\n",
      "Processing Record 0 of Set 4 | Hofn\n",
      "Processing Record 1 of Set 4 | Berlevåg\n",
      "Processing Record 2 of Set 4 | Verkhniye Sergi\n",
      "Processing Record 3 of Set 4 | West Wendover\n",
      "Processing Record 4 of Set 4 | Provideniya\n",
      "Processing Record 5 of Set 4 | Bengkulu\n",
      "Processing Record 6 of Set 4 | Lakes Entrance\n",
      "Processing Record 7 of Set 4 | Murud\n",
      "Processing Record 8 of Set 4 | Khatanga\n",
      "Processing Record 9 of Set 4 | Shrewsbury\n",
      "Processing Record 10 of Set 4 | Jamestown\n",
      "Processing Record 11 of Set 4 | Zhigansk\n",
      "Processing Record 12 of Set 4 | New Norfolk\n",
      "Processing Record 13 of Set 4 | Kaitangata\n",
      "Processing Record 14 of Set 4 | Port Shepstone\n",
      "Processing Record 15 of Set 4 | Puerto Ayacucho\n",
      "Processing Record 16 of Set 4 | Slavsk\n",
      "Processing Record 17 of Set 4 | Mut\n",
      "Processing Record 18 of Set 4 | Port Blair\n",
      "Processing Record 19 of Set 4 | Touros\n",
      "Processing Record 20 of Set 4 | Kadiri\n",
      "Processing Record 21 of Set 4 | Vila Franca do Campo\n",
      "Processing Record 22 of Set 4 | Kapaa\n",
      "Processing Record 23 of Set 4 | Rome\n",
      "City not found. Skipping...\n",
      "Processing Record 24 of Set 4 | Charter Township of Clinton\n",
      "Processing Record 25 of Set 4 | Victor Harbor\n",
      "Processing Record 26 of Set 4 | Saint George\n",
      "Processing Record 27 of Set 4 | Kruisfontein\n",
      "Processing Record 28 of Set 4 | Manoel Urbano\n",
      "City not found. Skipping...\n",
      "Processing Record 29 of Set 4 | Oranjestad\n",
      "Processing Record 30 of Set 4 | Săpânţa\n",
      "City not found. Skipping...\n"
     ]
    },
    {
     "name": "stdout",
     "output_type": "stream",
     "text": [
      "Processing Record 31 of Set 4 | Shelui\n",
      "Processing Record 32 of Set 4 | São Miguel do Araguaia\n",
      "Processing Record 33 of Set 4 | Santa Rosa\n",
      "City not found. Skipping...\n",
      "Processing Record 34 of Set 4 | Vestmannaeyjar\n",
      "Processing Record 35 of Set 4 | La Providencia\n",
      "Processing Record 36 of Set 4 | Kremenchuk\n",
      "Processing Record 37 of Set 4 | Alibag\n",
      "Processing Record 38 of Set 4 | Novo Cruzeiro\n",
      "Processing Record 39 of Set 4 | Moscow\n",
      "Processing Record 40 of Set 4 | Pareora\n",
      "Processing Record 41 of Set 4 | Clyde River\n",
      "Processing Record 42 of Set 4 | Mananjary\n",
      "Processing Record 43 of Set 4 | Fortuna\n",
      "Processing Record 44 of Set 4 | Koronowo\n",
      "Processing Record 45 of Set 4 | Castro\n",
      "Processing Record 46 of Set 4 | Tiksi\n",
      "Processing Record 47 of Set 4 | Bāfq\n",
      "Processing Record 48 of Set 4 | At-Bashi\n",
      "Processing Record 49 of Set 4 | Baruun-Urt\n",
      "Processing Record 50 of Set 4 | Klyuchi\n",
      "Processing Record 0 of Set 5 | Agde\n",
      "City not found. Skipping...\n",
      "City not found. Skipping...\n",
      "Processing Record 1 of Set 5 | Gainesville\n",
      "City not found. Skipping...\n",
      "Processing Record 2 of Set 5 | Grand Gaube\n",
      "Processing Record 3 of Set 5 | Avera\n",
      "Processing Record 4 of Set 5 | Coquimbo\n",
      "Processing Record 5 of Set 5 | Allāpalli\n",
      "Processing Record 6 of Set 5 | Yuanping\n",
      "City not found. Skipping...\n",
      "Processing Record 7 of Set 5 | Kirensk\n",
      "Processing Record 8 of Set 5 | Sunland Park\n",
      "Processing Record 9 of Set 5 | Soyo\n",
      "Processing Record 10 of Set 5 | Alice Springs\n",
      "Processing Record 11 of Set 5 | St-Jean-Port-Joli\n",
      "Processing Record 12 of Set 5 | Yeppoon\n",
      "Processing Record 13 of Set 5 | Fairview\n",
      "Processing Record 14 of Set 5 | Lüderitz\n",
      "Processing Record 15 of Set 5 | Ketchikan\n",
      "Processing Record 16 of Set 5 | Rawson\n",
      "Processing Record 17 of Set 5 | Finnsnes\n",
      "Processing Record 18 of Set 5 | Andenes\n",
      "Processing Record 19 of Set 5 | Kyrylivka\n",
      "Processing Record 20 of Set 5 | Ratnagiri\n",
      "Processing Record 21 of Set 5 | Elk City\n",
      "Processing Record 22 of Set 5 | Shenkursk\n",
      "Processing Record 23 of Set 5 | Palmer\n",
      "Processing Record 24 of Set 5 | Richards Bay\n",
      "Processing Record 25 of Set 5 | Voyvozh\n",
      "Processing Record 26 of Set 5 | Arrecife\n",
      "Processing Record 27 of Set 5 | Makkah al Mukarramah\n",
      "Processing Record 28 of Set 5 | Kristinestad\n",
      "Processing Record 29 of Set 5 | Seymchan\n",
      "Processing Record 30 of Set 5 | Williams Lake\n",
      "Processing Record 31 of Set 5 | Goderich\n",
      "Processing Record 32 of Set 5 | Río Gallegos\n",
      "Processing Record 33 of Set 5 | North Platte\n",
      "Processing Record 34 of Set 5 | Muros\n",
      "Processing Record 35 of Set 5 | Mineiros\n",
      "Processing Record 36 of Set 5 | Nikol'sk\n",
      "Processing Record 37 of Set 5 | Iqaluit\n",
      "Processing Record 38 of Set 5 | Bassila\n",
      "Processing Record 39 of Set 5 | Gushikawa\n",
      "Processing Record 40 of Set 5 | Monrovia\n",
      "Processing Record 41 of Set 5 | Katsuura\n",
      "Processing Record 42 of Set 5 | Barra Patuca\n",
      "Processing Record 43 of Set 5 | Boyolangu\n",
      "City not found. Skipping...\n",
      "Processing Record 44 of Set 5 | Repnoye\n",
      "Processing Record 45 of Set 5 | Port Alfred\n",
      "City not found. Skipping...\n",
      "Processing Record 46 of Set 5 | Riviere-au-Renard\n",
      "Processing Record 47 of Set 5 | Baghdad\n",
      "Processing Record 48 of Set 5 | Bay Roberts\n",
      "City not found. Skipping...\n",
      "Processing Record 49 of Set 5 | Petropavlovskoye\n",
      "Processing Record 50 of Set 5 | Ulladulla\n",
      "City not found. Skipping...\n",
      "Processing Record 0 of Set 6 | Half Moon Bay\n",
      "Processing Record 1 of Set 6 | Norman Wells\n",
      "Processing Record 2 of Set 6 | Kaeo\n",
      "City not found. Skipping...\n",
      "Processing Record 3 of Set 6 | Swift Current\n",
      "City not found. Skipping...\n",
      "Processing Record 4 of Set 6 | Chitose\n",
      "Processing Record 5 of Set 6 | Normandin\n",
      "Processing Record 6 of Set 6 | Cherskiy\n",
      "Processing Record 7 of Set 6 | Coahuayana Viejo\n",
      "Processing Record 8 of Set 6 | Roald\n",
      "Processing Record 9 of Set 6 | Codrington\n",
      "Processing Record 10 of Set 6 | Caucayá\n",
      "Processing Record 11 of Set 6 | Batemans Bay\n",
      "Processing Record 12 of Set 6 | Pisco\n",
      "Processing Record 13 of Set 6 | Severobaykal'sk\n",
      "Processing Record 14 of Set 6 | Tran\n",
      "Processing Record 15 of Set 6 | Opuwo\n",
      "Processing Record 16 of Set 6 | Saqqez\n",
      "Processing Record 17 of Set 6 | Aykhal\n",
      "Processing Record 18 of Set 6 | Anadyr\n",
      "Processing Record 19 of Set 6 | Loandjili\n",
      "Processing Record 20 of Set 6 | Ponta do Sol\n",
      "Processing Record 21 of Set 6 | Kibala\n",
      "Processing Record 22 of Set 6 | Denham Springs\n",
      "Processing Record 23 of Set 6 | Ballina\n",
      "Processing Record 24 of Set 6 | Iquique\n",
      "Processing Record 25 of Set 6 | Ternate\n",
      "Processing Record 26 of Set 6 | Kismayo\n",
      "Processing Record 27 of Set 6 | Gazojak\n",
      "Processing Record 28 of Set 6 | Biabou\n",
      "Processing Record 29 of Set 6 | Mandalgovi\n",
      "Processing Record 30 of Set 6 | Hong Kong\n",
      "Processing Record 31 of Set 6 | Shimoda\n",
      "Processing Record 32 of Set 6 | Avarua\n",
      "Processing Record 33 of Set 6 | Balkanabat\n",
      "Processing Record 34 of Set 6 | Hambantota\n",
      "Processing Record 35 of Set 6 | Necochea\n",
      "Processing Record 36 of Set 6 | Kiunga\n",
      "Processing Record 37 of Set 6 | Kirkuk\n",
      "Processing Record 38 of Set 6 | Kembé\n",
      "Processing Record 39 of Set 6 | Carauari\n",
      "Processing Record 40 of Set 6 | Taitung City\n",
      "Processing Record 41 of Set 6 | Vila Velha\n",
      "Processing Record 42 of Set 6 | Mocuba\n",
      "Processing Record 43 of Set 6 | Weligama\n",
      "Processing Record 44 of Set 6 | São João da Barra\n",
      "Processing Record 45 of Set 6 | Kazachinskoye\n",
      "Processing Record 46 of Set 6 | Kovdor\n",
      "Processing Record 47 of Set 6 | Gimli\n",
      "Processing Record 48 of Set 6 | Marzuq\n",
      "Processing Record 49 of Set 6 | Al Bardīyah\n",
      "Processing Record 50 of Set 6 | Lebu\n",
      "Processing Record 0 of Set 7 | Vostok\n",
      "Processing Record 1 of Set 7 | Saint Anthony\n",
      "Processing Record 2 of Set 7 | Matara\n",
      "Processing Record 3 of Set 7 | Selma\n",
      "Processing Record 4 of Set 7 | Yaan\n",
      "Processing Record 5 of Set 7 | Belozërskoye\n",
      "Processing Record 6 of Set 7 | Khovd\n",
      "Processing Record 7 of Set 7 | Coxim\n",
      "Processing Record 8 of Set 7 | Orapa\n",
      "City not found. Skipping...\n",
      "Processing Record 9 of Set 7 | Clarksville\n",
      "Processing Record 10 of Set 7 | Oodweyne\n",
      "Processing Record 11 of Set 7 | Rio Verde de Mato Grosso\n",
      "Processing Record 12 of Set 7 | College\n",
      "City not found. Skipping...\n",
      "Processing Record 13 of Set 7 | Severo-Yeniseyskiy\n",
      "Processing Record 14 of Set 7 | Chicama\n",
      "Processing Record 15 of Set 7 | Bambous Virieux\n",
      "Processing Record 16 of Set 7 | Dhidhdhoo\n",
      "Processing Record 17 of Set 7 | Fairbanks\n",
      "Processing Record 18 of Set 7 | Cayenne\n",
      "City not found. Skipping...\n",
      "Processing Record 19 of Set 7 | Bathsheba\n",
      "Processing Record 20 of Set 7 | Saint Petersburg\n",
      "Processing Record 21 of Set 7 | Santa Cruz\n",
      "Processing Record 22 of Set 7 | Shimanovsk\n",
      "Processing Record 23 of Set 7 | Hortobágy\n",
      "City not found. Skipping...\n",
      "Processing Record 24 of Set 7 | Camalú\n",
      "Processing Record 25 of Set 7 | Port-Cartier\n",
      "Processing Record 26 of Set 7 | Pangody\n",
      "Processing Record 27 of Set 7 | Boa Vista\n",
      "Processing Record 28 of Set 7 | El Salvador\n",
      "Processing Record 29 of Set 7 | Harwich\n",
      "Processing Record 30 of Set 7 | Prince Rupert\n",
      "Processing Record 31 of Set 7 | Mombetsu\n",
      "Processing Record 32 of Set 7 | Mount Gambier\n",
      "Processing Record 33 of Set 7 | Namatanai\n",
      "Processing Record 34 of Set 7 | Gijang\n",
      "Processing Record 35 of Set 7 | Lamballe\n",
      "Processing Record 36 of Set 7 | Tiznit Province\n",
      "Processing Record 37 of Set 7 | Vyazemskiy\n",
      "Processing Record 38 of Set 7 | Susanville\n",
      "Processing Record 39 of Set 7 | Cabo San Lucas\n",
      "Processing Record 40 of Set 7 | Buraidah\n",
      "Processing Record 41 of Set 7 | Puerto Palomas\n",
      "Processing Record 42 of Set 7 | Dingle\n",
      "Processing Record 43 of Set 7 | Camacha\n",
      "Processing Record 44 of Set 7 | Timon\n",
      "Processing Record 45 of Set 7 | Nome\n",
      "Processing Record 46 of Set 7 | Talnakh\n",
      "Processing Record 47 of Set 7 | Takoradze\n",
      "Processing Record 48 of Set 7 | Paita\n",
      "Processing Record 49 of Set 7 | Simpang\n",
      "Processing Record 50 of Set 7 | Chākia\n",
      "City not found. Skipping...\n",
      "Processing Record 0 of Set 8 | Vestmanna\n",
      "Processing Record 1 of Set 8 | Sovetskiy\n",
      "City not found. Skipping...\n",
      "Processing Record 2 of Set 8 | Mayo\n",
      "City not found. Skipping...\n",
      "Processing Record 3 of Set 8 | Santa Maria\n",
      "Processing Record 4 of Set 8 | Campina Verde\n",
      "Processing Record 5 of Set 8 | Waingapu\n",
      "Processing Record 6 of Set 8 | Asău\n",
      "Processing Record 7 of Set 8 | Srednekolymsk\n",
      "Processing Record 8 of Set 8 | Fare\n",
      "Processing Record 9 of Set 8 | Sinnamary\n",
      "Processing Record 10 of Set 8 | Yumen\n",
      "Processing Record 11 of Set 8 | Longyearbyen\n"
     ]
    },
    {
     "name": "stdout",
     "output_type": "stream",
     "text": [
      "Processing Record 12 of Set 8 | Ubari\n",
      "Processing Record 13 of Set 8 | Saint-Pierre\n",
      "Processing Record 14 of Set 8 | Faya\n",
      "Processing Record 15 of Set 8 | Saldanha\n",
      "Processing Record 16 of Set 8 | Stroud\n",
      "Processing Record 17 of Set 8 | Mokrousovo\n",
      "Processing Record 18 of Set 8 | Denpasar\n",
      "Processing Record 19 of Set 8 | Douglas\n",
      "Processing Record 20 of Set 8 | Makakilo City\n",
      "Processing Record 21 of Set 8 | Vrangel'\n",
      "Processing Record 22 of Set 8 | Preobrazheniye\n",
      "Processing Record 23 of Set 8 | Forsytheganj\n",
      "Processing Record 24 of Set 8 | Myaundzha\n",
      "Processing Record 25 of Set 8 | Formosa\n",
      "Processing Record 26 of Set 8 | Kabare\n",
      "Processing Record 27 of Set 8 | Kalianget\n",
      "City not found. Skipping...\n",
      "Processing Record 28 of Set 8 | Nālūt\n",
      "Processing Record 29 of Set 8 | Evensk\n",
      "Processing Record 30 of Set 8 | Aden\n",
      "Processing Record 31 of Set 8 | Kirakira\n",
      "Processing Record 32 of Set 8 | Sahuaripa\n",
      "Processing Record 33 of Set 8 | Dukat\n",
      "Processing Record 34 of Set 8 | Sarlat-la-Canéda\n",
      "Processing Record 35 of Set 8 | Nhulunbuy\n",
      "Processing Record 36 of Set 8 | Verkhoyansk\n",
      "Processing Record 37 of Set 8 | Barão de Melgaço\n",
      "Processing Record 38 of Set 8 | Ilulissat\n",
      "Processing Record 39 of Set 8 | San Patricio\n",
      "Processing Record 40 of Set 8 | Quatre Cocos\n",
      "Processing Record 41 of Set 8 | Blagoyevo\n",
      "Processing Record 42 of Set 8 | Dauriya\n",
      "Processing Record 43 of Set 8 | Del Rio\n",
      "Processing Record 44 of Set 8 | San Juan\n",
      "Processing Record 45 of Set 8 | Province of Palermo\n",
      "Processing Record 46 of Set 8 | Igra\n",
      "Processing Record 47 of Set 8 | Miraflores\n",
      "Processing Record 48 of Set 8 | Atar\n",
      "Processing Record 49 of Set 8 | Poum\n",
      "Processing Record 50 of Set 8 | Wabag\n",
      "Processing Record 0 of Set 9 | Turaif\n",
      "Processing Record 1 of Set 9 | Raul Soares\n",
      "Processing Record 2 of Set 9 | Tautira\n",
      "City not found. Skipping...\n",
      "Processing Record 3 of Set 9 | Vysokogornyy\n",
      "Processing Record 4 of Set 9 | Yima\n",
      "Processing Record 5 of Set 9 | Pangnirtung\n",
      "Processing Record 6 of Set 9 | Kutum\n",
      "Processing Record 7 of Set 9 | Pandan Niog\n",
      "Processing Record 8 of Set 9 | Latur\n",
      "Processing Record 9 of Set 9 | Saint-Augustin\n",
      "Processing Record 10 of Set 9 | Ningxiang\n",
      "City not found. Skipping...\n",
      "Processing Record 11 of Set 9 | Zaragoza\n",
      "Processing Record 12 of Set 9 | Niono\n",
      "Processing Record 13 of Set 9 | Zaysan\n",
      "Processing Record 14 of Set 9 | Khani\n",
      "Processing Record 15 of Set 9 | Kloulklubed\n",
      "Processing Record 16 of Set 9 | Vardø\n",
      "Processing Record 17 of Set 9 | Maceió\n",
      "Processing Record 18 of Set 9 | Tigil'\n",
      "Processing Record 19 of Set 9 | Aseri\n",
      "Processing Record 20 of Set 9 | Charlestown\n",
      "Processing Record 21 of Set 9 | Meulaboh\n",
      "Processing Record 22 of Set 9 | Coelho Neto\n",
      "Processing Record 23 of Set 9 | Huilong\n",
      "Processing Record 24 of Set 9 | Makokou\n",
      "Processing Record 25 of Set 9 | Nantucket\n",
      "Processing Record 26 of Set 9 | Padang\n",
      "Processing Record 27 of Set 9 | Fort Nelson\n",
      "Processing Record 28 of Set 9 | Gisborne\n",
      "Processing Record 29 of Set 9 | Mabaruma\n",
      "Processing Record 30 of Set 9 | Sémbé\n",
      "Processing Record 31 of Set 9 | Sambava\n",
      "Processing Record 32 of Set 9 | Kangaatsiaq\n",
      "Processing Record 33 of Set 9 | Tigre\n",
      "Processing Record 34 of Set 9 | Mt. Pleasant\n",
      "Processing Record 35 of Set 9 | Rocky Mountain House\n",
      "City not found. Skipping...\n",
      "Processing Record 36 of Set 9 | Saint-Leu\n",
      "Processing Record 37 of Set 9 | Griffith\n",
      "Processing Record 38 of Set 9 | Isangel\n",
      "Processing Record 39 of Set 9 | Skibbereen\n",
      "City not found. Skipping...\n",
      "Processing Record 40 of Set 9 | Arrondissement de Saint-Denis\n",
      "Processing Record 41 of Set 9 | Shakiso\n",
      "Processing Record 42 of Set 9 | Ōmagari\n",
      "Processing Record 43 of Set 9 | Ventspils\n",
      "Processing Record 44 of Set 9 | Bria\n",
      "Processing Record 45 of Set 9 | Kahului\n",
      "Processing Record 46 of Set 9 | Luau\n",
      "City not found. Skipping...\n",
      "Processing Record 47 of Set 9 | Nizhniy Kuranakh\n",
      "Processing Record 48 of Set 9 | Port Lincoln\n",
      "Processing Record 49 of Set 9 | Nishihara\n",
      "Processing Record 50 of Set 9 | Grand-Lahou\n",
      "Processing Record 0 of Set 10 | Bilibino\n",
      "Processing Record 1 of Set 10 | Ishigaki\n",
      "Processing Record 2 of Set 10 | Mangan\n",
      "Processing Record 3 of Set 10 | Abū Zabad\n",
      "Processing Record 4 of Set 10 | Verkh-Usugli\n",
      "Processing Record 5 of Set 10 | Canary Islands\n",
      "Processing Record 6 of Set 10 | Tomohon\n",
      "Processing Record 7 of Set 10 | Pitimbu\n",
      "Processing Record 8 of Set 10 | Udachny\n",
      "Processing Record 9 of Set 10 | Sfântu Gheorghe\n",
      "Processing Record 10 of Set 10 | Manta\n",
      "Processing Record 11 of Set 10 | Temir\n",
      "Processing Record 12 of Set 10 | Harper\n",
      "Processing Record 13 of Set 10 | Bibiani\n",
      "Processing Record 14 of Set 10 | Baldev\n",
      "Processing Record 15 of Set 10 | Datong\n",
      "Processing Record 16 of Set 10 | Jalu\n",
      "Processing Record 17 of Set 10 | Grindavik\n",
      "Processing Record 18 of Set 10 | Belūsovka\n",
      "Processing Record 19 of Set 10 | Grand-Santi\n",
      "Processing Record 20 of Set 10 | Obihiro\n",
      "Processing Record 21 of Set 10 | Coos Bay\n",
      "Processing Record 22 of Set 10 | Cartagena\n",
      "Processing Record 23 of Set 10 | Berdigestyakh\n",
      "Processing Record 24 of Set 10 | Haines Junction\n",
      "Processing Record 25 of Set 10 | Henties Bay\n",
      "Processing Record 26 of Set 10 | Paramonga\n",
      "City not found. Skipping...\n",
      "Processing Record 27 of Set 10 | Okaihau\n",
      "Processing Record 28 of Set 10 | Abrau-Dyurso\n",
      "Processing Record 29 of Set 10 | Dawlatabad\n",
      "Processing Record 30 of Set 10 | Hailar\n",
      "Processing Record 31 of Set 10 | Beyneu\n",
      "Processing Record 32 of Set 10 | São Filipe\n",
      "Processing Record 33 of Set 10 | Chālūs\n",
      "Processing Record 34 of Set 10 | Itarema\n",
      "Processing Record 35 of Set 10 | Taclobo\n",
      "Processing Record 36 of Set 10 | Loralai\n",
      "Processing Record 37 of Set 10 | Inuvik\n",
      "Processing Record 38 of Set 10 | Itupiranga\n",
      "Processing Record 39 of Set 10 | Yelizovo\n",
      "Processing Record 40 of Set 10 | Tijucas\n",
      "Processing Record 41 of Set 10 | Ambilobe\n",
      "Processing Record 42 of Set 10 | Maturin\n",
      "Processing Record 43 of Set 10 | Churāchāndpur\n",
      "City not found. Skipping...\n",
      "Processing Record 44 of Set 10 | Dongsheng\n",
      "Processing Record 45 of Set 10 | Port Hardy\n",
      "Processing Record 46 of Set 10 | Jesolo\n",
      "Processing Record 47 of Set 10 | Antofagasta\n",
      "Processing Record 48 of Set 10 | Llanes\n",
      "Processing Record 49 of Set 10 | Riyadh\n",
      "Processing Record 50 of Set 10 | Olutanga\n",
      "Processing Record 0 of Set 11 | Troitsko-Pechorsk\n",
      "City not found. Skipping...\n",
      "Processing Record 1 of Set 11 | Ancud\n",
      "Processing Record 2 of Set 11 | Mongu\n",
      "Processing Record 3 of Set 11 | Buala\n",
      "Processing Record 4 of Set 11 | Macas\n",
      "Processing Record 5 of Set 11 | Hirara\n",
      "Processing Record 6 of Set 11 | Kananga\n",
      "Processing Record 7 of Set 11 | Yuli\n",
      "Processing Record 8 of Set 11 | Belmont\n",
      "City not found. Skipping...\n",
      "Processing Record 9 of Set 11 | Romanovskaya\n",
      "Processing Record 10 of Set 11 | Kupang\n",
      "Processing Record 11 of Set 11 | Hermiston\n",
      "Processing Record 12 of Set 11 | Trofors\n",
      "Processing Record 13 of Set 11 | Plettenberg Bay\n",
      "Processing Record 14 of Set 11 | Oriximiná\n",
      "City not found. Skipping...\n",
      "Processing Record 15 of Set 11 | Sechura\n",
      "Processing Record 16 of Set 11 | Coihueco\n",
      "City not found. Skipping...\n",
      "City not found. Skipping...\n",
      "Processing Record 17 of Set 11 | Egvekinot\n",
      "Processing Record 18 of Set 11 | Campbell River\n",
      "Processing Record 19 of Set 11 | Vanavara\n",
      "Processing Record 20 of Set 11 | Honiara\n",
      "Processing Record 21 of Set 11 | Severnoye\n",
      "Processing Record 22 of Set 11 | Sault Ste. Marie\n",
      "Processing Record 23 of Set 11 | Iranshahr\n",
      "Processing Record 24 of Set 11 | Moose Factory\n",
      "Processing Record 25 of Set 11 | Pahrump\n",
      "Processing Record 26 of Set 11 | George Town\n",
      "Processing Record 27 of Set 11 | Pathalgaon\n",
      "Processing Record 28 of Set 11 | Vilyuysk\n",
      "Processing Record 29 of Set 11 | La Ronge\n",
      "Processing Record 30 of Set 11 | Bhandāra\n",
      "Processing Record 31 of Set 11 | Brake (Unterweser)\n",
      "Processing Record 32 of Set 11 | Salalah\n",
      "Processing Record 33 of Set 11 | Havøysund\n",
      "City not found. Skipping...\n",
      "Processing Record 34 of Set 11 | Bethel\n",
      "Processing Record 35 of Set 11 | Oakland\n",
      "Processing Record 36 of Set 11 | Bilma\n",
      "Processing Record 37 of Set 11 | Toba\n",
      "Processing Record 38 of Set 11 | Pamekasan\n",
      "Processing Record 39 of Set 11 | Presidente Médici\n",
      "Processing Record 40 of Set 11 | Katherine\n",
      "Processing Record 41 of Set 11 | Emerald\n",
      "Processing Record 42 of Set 11 | Dyurtyuli\n",
      "Processing Record 43 of Set 11 | Koygorodok\n",
      "City not found. Skipping...\n",
      "Processing Record 44 of Set 11 | Alberton\n"
     ]
    },
    {
     "name": "stdout",
     "output_type": "stream",
     "text": [
      "Processing Record 45 of Set 11 | Zhezkazgan\n",
      "Processing Record 46 of Set 11 | Fereydūnkenār\n",
      "Processing Record 47 of Set 11 | Livingstonia\n",
      "Processing Record 48 of Set 11 | Corner Brook\n",
      "Processing Record 49 of Set 11 | San Quintín\n",
      "Processing Record 50 of Set 11 | Butembo\n",
      "Processing Record 0 of Set 12 | Makueni Boma\n",
      "Processing Record 1 of Set 12 | São José da Coroa Grande\n",
      "Processing Record 2 of Set 12 | Poconé\n",
      "Processing Record 3 of Set 12 | Petropavlovsk-Kamchatskiy\n",
      "City not found. Skipping...\n",
      "Processing Record 4 of Set 12 | Tilichiki\n",
      "Processing Record 5 of Set 12 | Mariental\n",
      "Processing Record 6 of Set 12 | Yagodnoye\n",
      "Processing Record 7 of Set 12 | Guisijan\n",
      "Processing Record 8 of Set 12 | Chernoistochinsk\n",
      "Processing Record 9 of Set 12 | Venice of the Philippines\n",
      "Processing Record 10 of Set 12 | Bāneh\n",
      "Processing Record 11 of Set 12 | Balabac\n",
      "Processing Record 12 of Set 12 | Ostrovnoy\n",
      "Processing Record 13 of Set 12 | Macamic\n",
      "Processing Record 14 of Set 12 | Bukama\n",
      "Processing Record 15 of Set 12 | San Cristobal\n",
      "Processing Record 16 of Set 12 | Deputatsky\n",
      "Processing Record 17 of Set 12 | Korla\n",
      "Processing Record 18 of Set 12 | Shar\n",
      "Processing Record 19 of Set 12 | Dedovichi\n",
      "Processing Record 20 of Set 12 | Payo\n",
      "Processing Record 21 of Set 12 | Morant Bay\n",
      "Processing Record 22 of Set 12 | Naze\n",
      "Processing Record 23 of Set 12 | Samarai\n",
      "Processing Record 24 of Set 12 | Manokwari\n",
      "Processing Record 25 of Set 12 | Nago\n",
      "Processing Record 26 of Set 12 | Cotacachi\n",
      "Processing Record 27 of Set 12 | Port Hedland\n",
      "Processing Record 28 of Set 12 | Santa Marta\n",
      "---------------------------------------------------------\n",
      "Data Retrival Complete\n",
      "---------------------------------------------------------\n"
     ]
    }
   ],
   "source": [
    "#query url\n",
    "url = \"http://api.openweathermap.org/data/2.5/weather?\"\n",
    "units = \"imperial\"\n",
    "query_url = f\"{url}appid={weather_api_key}&units={units}&q=\"\n",
    "\n",
    "\n",
    "#lists for data frames\n",
    "name = []\n",
    "lat = []\n",
    "lng = []\n",
    "max_temp = []\n",
    "humidity = []\n",
    "cloudiness = []\n",
    "wind_speed = []\n",
    "country = []\n",
    "date = []\n",
    "\n",
    "#count\n",
    "record = 0\n",
    "count = 1\n",
    "\n",
    "\n",
    "#printing data\n",
    "print(f\"Beginning Data Retrieval\")\n",
    "print(f\"---------------------------------------------------\")\n",
    "\n",
    "#loop\n",
    "for index, city in enumerate(cities, start = 1):\n",
    "    response = requests.get(query_url + city).json()\n",
    "    try:\n",
    "            name.append(response[\"name\"])\n",
    "            lat.append(response[\"coord\"][\"lat\"])\n",
    "            lng.append(response[\"coord\"][\"lon\"])\n",
    "            max_temp.append(response[\"main\"][\"temp_max\"])\n",
    "            humidity.append(response[\"main\"][\"humidity\"])\n",
    "            cloudiness.append(response[\"clouds\"][\"all\"])\n",
    "            wind_speed.append(response[\"wind\"][\"speed\"])\n",
    "            country.append(response[\"sys\"][\"country\"])\n",
    "            date.append(response[\"dt\"])\n",
    "            city_name = response[\"name\"]\n",
    "           \n",
    "            \n",
    "            if record >49:\n",
    "                record = 0\n",
    "                count += 1\n",
    "            else:\n",
    "                record = record + 1\n",
    "            \n",
    "            \n",
    "            print(f\"Processing Record {record} of Set {count} | {city_name}\")\n",
    "            time.sleep(1)\n",
    "    except: \n",
    "                print(f\"City not found. Skipping...\")\n",
    "    continue\n",
    "            \n",
    "            \n",
    "print(\"---------------------------------------------------------\")\n",
    "print(\"Data Retrival Complete\")\n",
    "print(\"---------------------------------------------------------\")\n",
    "                \n",
    "            \n",
    "        \n",
    "\n",
    "\n",
    "\n",
    "\n"
   ]
  },
  {
   "cell_type": "markdown",
   "metadata": {},
   "source": [
    "### Convert Raw Data to DataFrame\n",
    "* Export the city data into a .csv.\n",
    "* Display the DataFrame"
   ]
  },
  {
   "cell_type": "code",
   "execution_count": 11,
   "metadata": {},
   "outputs": [
    {
     "data": {
      "text/html": [
       "<div>\n",
       "<style scoped>\n",
       "    .dataframe tbody tr th:only-of-type {\n",
       "        vertical-align: middle;\n",
       "    }\n",
       "\n",
       "    .dataframe tbody tr th {\n",
       "        vertical-align: top;\n",
       "    }\n",
       "\n",
       "    .dataframe thead th {\n",
       "        text-align: right;\n",
       "    }\n",
       "</style>\n",
       "<table border=\"1\" class=\"dataframe\">\n",
       "  <thead>\n",
       "    <tr style=\"text-align: right;\">\n",
       "      <th></th>\n",
       "      <th>City</th>\n",
       "      <th>Latitude</th>\n",
       "      <th>Longitude</th>\n",
       "      <th>Max Temperature</th>\n",
       "      <th>Humidity</th>\n",
       "      <th>Cloudiness</th>\n",
       "      <th>Wind Speed</th>\n",
       "      <th>Country</th>\n",
       "      <th>Date</th>\n",
       "    </tr>\n",
       "  </thead>\n",
       "  <tbody>\n",
       "    <tr>\n",
       "      <th>0</th>\n",
       "      <td>Puerto Ayora</td>\n",
       "      <td>-0.7393</td>\n",
       "      <td>-90.3518</td>\n",
       "      <td>73.99</td>\n",
       "      <td>92</td>\n",
       "      <td>25</td>\n",
       "      <td>3.00</td>\n",
       "      <td>EC</td>\n",
       "      <td>1610251685</td>\n",
       "    </tr>\n",
       "    <tr>\n",
       "      <th>1</th>\n",
       "      <td>Upernavik</td>\n",
       "      <td>72.7868</td>\n",
       "      <td>-56.1549</td>\n",
       "      <td>10.47</td>\n",
       "      <td>83</td>\n",
       "      <td>96</td>\n",
       "      <td>8.99</td>\n",
       "      <td>GL</td>\n",
       "      <td>1610251854</td>\n",
       "    </tr>\n",
       "    <tr>\n",
       "      <th>2</th>\n",
       "      <td>Leiyang</td>\n",
       "      <td>26.4024</td>\n",
       "      <td>112.8591</td>\n",
       "      <td>43.83</td>\n",
       "      <td>55</td>\n",
       "      <td>99</td>\n",
       "      <td>5.53</td>\n",
       "      <td>CN</td>\n",
       "      <td>1610252034</td>\n",
       "    </tr>\n",
       "    <tr>\n",
       "      <th>3</th>\n",
       "      <td>Ushuaia</td>\n",
       "      <td>-54.8000</td>\n",
       "      <td>-68.3000</td>\n",
       "      <td>44.60</td>\n",
       "      <td>87</td>\n",
       "      <td>20</td>\n",
       "      <td>16.11</td>\n",
       "      <td>AR</td>\n",
       "      <td>1610251823</td>\n",
       "    </tr>\n",
       "    <tr>\n",
       "      <th>4</th>\n",
       "      <td>Bluff</td>\n",
       "      <td>-46.6000</td>\n",
       "      <td>168.3333</td>\n",
       "      <td>64.00</td>\n",
       "      <td>70</td>\n",
       "      <td>93</td>\n",
       "      <td>23.00</td>\n",
       "      <td>NZ</td>\n",
       "      <td>1610251874</td>\n",
       "    </tr>\n",
       "  </tbody>\n",
       "</table>\n",
       "</div>"
      ],
      "text/plain": [
       "           City  Latitude  Longitude  Max Temperature  Humidity  Cloudiness  \\\n",
       "0  Puerto Ayora   -0.7393   -90.3518            73.99        92          25   \n",
       "1     Upernavik   72.7868   -56.1549            10.47        83          96   \n",
       "2       Leiyang   26.4024   112.8591            43.83        55          99   \n",
       "3       Ushuaia  -54.8000   -68.3000            44.60        87          20   \n",
       "4         Bluff  -46.6000   168.3333            64.00        70          93   \n",
       "\n",
       "   Wind Speed Country        Date  \n",
       "0        3.00      EC  1610251685  \n",
       "1        8.99      GL  1610251854  \n",
       "2        5.53      CN  1610252034  \n",
       "3       16.11      AR  1610251823  \n",
       "4       23.00      NZ  1610251874  "
      ]
     },
     "execution_count": 11,
     "metadata": {},
     "output_type": "execute_result"
    }
   ],
   "source": [
    "weather_df = pd.DataFrame({\"City\": name,\n",
    "                          \"Latitude\": lat,\n",
    "                          \"Longitude\": lng,\n",
    "                          \"Max Temperature\": max_temp,\n",
    "                          \"Humidity\": humidity,\n",
    "                          \"Cloudiness\": cloudiness,\n",
    "                          \"Wind Speed\": wind_speed,\n",
    "                          \"Country\":country,\n",
    "                          \"Date\": date})\n",
    "weather_df.to_csv(output_data_file)\n",
    "weather_df.head()\n"
   ]
  },
  {
   "cell_type": "code",
   "execution_count": 10,
   "metadata": {},
   "outputs": [
    {
     "data": {
      "text/html": [
       "<div>\n",
       "<style scoped>\n",
       "    .dataframe tbody tr th:only-of-type {\n",
       "        vertical-align: middle;\n",
       "    }\n",
       "\n",
       "    .dataframe tbody tr th {\n",
       "        vertical-align: top;\n",
       "    }\n",
       "\n",
       "    .dataframe thead th {\n",
       "        text-align: right;\n",
       "    }\n",
       "</style>\n",
       "<table border=\"1\" class=\"dataframe\">\n",
       "  <thead>\n",
       "    <tr style=\"text-align: right;\">\n",
       "      <th></th>\n",
       "      <th>Latitude</th>\n",
       "      <th>Longitude</th>\n",
       "      <th>Max Temperature</th>\n",
       "      <th>Humidity</th>\n",
       "      <th>Cloudiness</th>\n",
       "      <th>Wind Speed</th>\n",
       "      <th>Date</th>\n",
       "    </tr>\n",
       "  </thead>\n",
       "  <tbody>\n",
       "    <tr>\n",
       "      <th>count</th>\n",
       "      <td>589.000000</td>\n",
       "      <td>589.000000</td>\n",
       "      <td>589.000000</td>\n",
       "      <td>589.000000</td>\n",
       "      <td>589.000000</td>\n",
       "      <td>589.000000</td>\n",
       "      <td>5.890000e+02</td>\n",
       "    </tr>\n",
       "    <tr>\n",
       "      <th>mean</th>\n",
       "      <td>21.952199</td>\n",
       "      <td>21.243768</td>\n",
       "      <td>46.776367</td>\n",
       "      <td>74.268251</td>\n",
       "      <td>55.843803</td>\n",
       "      <td>7.853922</td>\n",
       "      <td>1.610253e+09</td>\n",
       "    </tr>\n",
       "    <tr>\n",
       "      <th>std</th>\n",
       "      <td>33.001854</td>\n",
       "      <td>90.477999</td>\n",
       "      <td>32.130853</td>\n",
       "      <td>19.163352</td>\n",
       "      <td>39.418038</td>\n",
       "      <td>5.773288</td>\n",
       "      <td>2.476146e+02</td>\n",
       "    </tr>\n",
       "    <tr>\n",
       "      <th>min</th>\n",
       "      <td>-54.800000</td>\n",
       "      <td>-179.166700</td>\n",
       "      <td>-32.330000</td>\n",
       "      <td>1.000000</td>\n",
       "      <td>0.000000</td>\n",
       "      <td>0.130000</td>\n",
       "      <td>1.610251e+09</td>\n",
       "    </tr>\n",
       "    <tr>\n",
       "      <th>25%</th>\n",
       "      <td>-4.882800</td>\n",
       "      <td>-58.178100</td>\n",
       "      <td>24.800000</td>\n",
       "      <td>65.000000</td>\n",
       "      <td>14.000000</td>\n",
       "      <td>3.440000</td>\n",
       "      <td>1.610252e+09</td>\n",
       "    </tr>\n",
       "    <tr>\n",
       "      <th>50%</th>\n",
       "      <td>28.099600</td>\n",
       "      <td>25.366700</td>\n",
       "      <td>54.210000</td>\n",
       "      <td>79.000000</td>\n",
       "      <td>75.000000</td>\n",
       "      <td>6.620000</td>\n",
       "      <td>1.610253e+09</td>\n",
       "    </tr>\n",
       "    <tr>\n",
       "      <th>75%</th>\n",
       "      <td>49.141400</td>\n",
       "      <td>102.265500</td>\n",
       "      <td>75.160000</td>\n",
       "      <td>88.000000</td>\n",
       "      <td>93.000000</td>\n",
       "      <td>10.580000</td>\n",
       "      <td>1.610253e+09</td>\n",
       "    </tr>\n",
       "    <tr>\n",
       "      <th>max</th>\n",
       "      <td>78.218600</td>\n",
       "      <td>178.416700</td>\n",
       "      <td>102.200000</td>\n",
       "      <td>100.000000</td>\n",
       "      <td>100.000000</td>\n",
       "      <td>37.310000</td>\n",
       "      <td>1.610253e+09</td>\n",
       "    </tr>\n",
       "  </tbody>\n",
       "</table>\n",
       "</div>"
      ],
      "text/plain": [
       "         Latitude   Longitude  Max Temperature    Humidity  Cloudiness  \\\n",
       "count  589.000000  589.000000       589.000000  589.000000  589.000000   \n",
       "mean    21.952199   21.243768        46.776367   74.268251   55.843803   \n",
       "std     33.001854   90.477999        32.130853   19.163352   39.418038   \n",
       "min    -54.800000 -179.166700       -32.330000    1.000000    0.000000   \n",
       "25%     -4.882800  -58.178100        24.800000   65.000000   14.000000   \n",
       "50%     28.099600   25.366700        54.210000   79.000000   75.000000   \n",
       "75%     49.141400  102.265500        75.160000   88.000000   93.000000   \n",
       "max     78.218600  178.416700       102.200000  100.000000  100.000000   \n",
       "\n",
       "       Wind Speed          Date  \n",
       "count  589.000000  5.890000e+02  \n",
       "mean     7.853922  1.610253e+09  \n",
       "std      5.773288  2.476146e+02  \n",
       "min      0.130000  1.610251e+09  \n",
       "25%      3.440000  1.610252e+09  \n",
       "50%      6.620000  1.610253e+09  \n",
       "75%     10.580000  1.610253e+09  \n",
       "max     37.310000  1.610253e+09  "
      ]
     },
     "execution_count": 10,
     "metadata": {},
     "output_type": "execute_result"
    }
   ],
   "source": [
    "weather_df.describe()"
   ]
  },
  {
   "cell_type": "markdown",
   "metadata": {},
   "source": [
    "## Inspect the data and remove the cities where the humidity > 100%.\n",
    "----\n",
    "Skip this step if there are no cities that have humidity > 100%. "
   ]
  },
  {
   "cell_type": "code",
   "execution_count": 14,
   "metadata": {},
   "outputs": [
    {
     "data": {
      "text/html": [
       "<div>\n",
       "<style scoped>\n",
       "    .dataframe tbody tr th:only-of-type {\n",
       "        vertical-align: middle;\n",
       "    }\n",
       "\n",
       "    .dataframe tbody tr th {\n",
       "        vertical-align: top;\n",
       "    }\n",
       "\n",
       "    .dataframe thead th {\n",
       "        text-align: right;\n",
       "    }\n",
       "</style>\n",
       "<table border=\"1\" class=\"dataframe\">\n",
       "  <thead>\n",
       "    <tr style=\"text-align: right;\">\n",
       "      <th></th>\n",
       "      <th>City</th>\n",
       "      <th>Latitude</th>\n",
       "      <th>Longitude</th>\n",
       "      <th>Max Temperature</th>\n",
       "      <th>Humidity</th>\n",
       "      <th>Cloudiness</th>\n",
       "      <th>Wind Speed</th>\n",
       "      <th>Country</th>\n",
       "      <th>Date</th>\n",
       "    </tr>\n",
       "  </thead>\n",
       "  <tbody>\n",
       "  </tbody>\n",
       "</table>\n",
       "</div>"
      ],
      "text/plain": [
       "Empty DataFrame\n",
       "Columns: [City, Latitude, Longitude, Max Temperature, Humidity, Cloudiness, Wind Speed, Country, Date]\n",
       "Index: []"
      ]
     },
     "execution_count": 14,
     "metadata": {},
     "output_type": "execute_result"
    }
   ],
   "source": [
    "humidity_df = weather_df.loc[weather_df[\"Humidity\"] > 100]\n",
    "humidity_df"
   ]
  },
  {
   "cell_type": "code",
   "execution_count": 17,
   "metadata": {},
   "outputs": [
    {
     "data": {
      "text/plain": [
       "Int64Index([], dtype='int64')"
      ]
     },
     "execution_count": 17,
     "metadata": {},
     "output_type": "execute_result"
    }
   ],
   "source": [
    "#  Get the indices of cities that have humidity over 100%.\n"
   ]
  },
  {
   "cell_type": "code",
   "execution_count": 15,
   "metadata": {},
   "outputs": [],
   "source": [
    "# Make a new DataFrame equal to the city data to drop all humidity outliers by index.\n",
    "# Passing \"inplace=False\" will make a copy of the city_data DataFrame, which we call \"clean_city_data\".\n"
   ]
  },
  {
   "cell_type": "code",
   "execution_count": null,
   "metadata": {},
   "outputs": [],
   "source": [
    "\n"
   ]
  },
  {
   "cell_type": "markdown",
   "metadata": {},
   "source": [
    "## Plotting the Data\n",
    "* Use proper labeling of the plots using plot titles (including date of analysis) and axes labels.\n",
    "* Save the plotted figures as .pngs."
   ]
  },
  {
   "cell_type": "markdown",
   "metadata": {},
   "source": [
    "## Latitude vs. Temperature Plot"
   ]
  },
  {
   "cell_type": "code",
   "execution_count": 23,
   "metadata": {
    "scrolled": true
   },
   "outputs": [
    {
     "data": {
      "image/png": "[encoded data removed]",
      "text/plain": [
       "<Figure size 432x288 with 1 Axes>"
      ]
     },
     "metadata": {
      "needs_background": "light"
     },
     "output_type": "display_data"
    },
    {
     "name": "stdout",
     "output_type": "stream",
     "text": [
      " Cities near the equator have a higher max temperature as opposed to cities far away from the equator. This suggests that the average temperature of the world is higher near the equator, where the sun affects the earth the most.\n"
     ]
    },
    {
     "data": {
      "text/plain": [
       "<Figure size 432x288 with 0 Axes>"
      ]
     },
     "metadata": {},
     "output_type": "display_data"
    }
   ],
   "source": [
    "x_values = weather_df[\"Latitude\"]\n",
    "y_values = weather_df[\"Max Temperature\"]\n",
    "plt.scatter(x_values, y_values, marker=\"o\", edgecolors=\"black\", color=\"green\")\n",
    "plt.grid(b=True, which=\"major\", linestyle=\"-\")\n",
    "plt.xlabel(\"Latitude\")\n",
    "plt.ylabel(\"Temperature (F°)\")\n",
    "plt.title(f\"Latitude vs. Temperature (F°)\")\n",
    "\n",
    "\n",
    "plt.show()\n",
    "\n",
    "\n",
    "\n",
    "\n",
    "plt.savefig(\"latvstemp.png\", format='png')\n",
    "\n",
    "\n",
    "print(f\" Cities near the equator have a higher max temperature as opposed to cities far away from the equator. This suggests that the average temperature of the world is higher near the equator, where the sun affects the earth the most.\")"
   ]
  },
  {
   "cell_type": "markdown",
   "metadata": {},
   "source": [
    "## Latitude vs. Humidity Plot"
   ]
  },
  {
   "cell_type": "code",
   "execution_count": 26,
   "metadata": {},
   "outputs": [
    {
     "data": {
      "image/png": "[encoded data removed]",
      "text/plain": [
       "<Figure size 432x288 with 1 Axes>"
      ]
     },
     "metadata": {
      "needs_background": "light"
     },
     "output_type": "display_data"
    },
    {
     "name": "stdout",
     "output_type": "stream",
     "text": [
      " \n"
     ]
    },
    {
     "data": {
      "text/plain": [
       "<Figure size 432x288 with 0 Axes>"
      ]
     },
     "metadata": {},
     "output_type": "display_data"
    }
   ],
   "source": [
    "x_values = weather_df[\"Latitude\"]\n",
    "y_values = weather_df[\"Humidity\"]\n",
    "plt.scatter(x_values, y_values, marker=\"o\", edgecolors=\"black\",color = \"green\")\n",
    "plt.grid(b=True, which=\"major\", linestyle=\"-\")\n",
    "plt.xlabel(\"Latitude\")\n",
    "plt.ylabel(\"Humidity (%)\")\n",
    "plt.title(f\"Latitude vs. Humidity\")\n",
    "plt.show()\n",
    "         \n",
    "plt.savefig(\"Latitude vs Humidity.png\", format='png')         \n",
    "         \n",
    "print(f\"Cities near the coast are usually the most humid and there are coastal cities all along the Latitude of earth which is why this plot shows no correlation between Latitude and Humidity.\"\" \")"
   ]
  },
  {
   "cell_type": "markdown",
   "metadata": {},
   "source": [
    "## Latitude vs. Cloudiness Plot"
   ]
  },
  {
   "cell_type": "code",
   "execution_count": 27,
   "metadata": {},
   "outputs": [
    {
     "data": {
      "image/png": "[encoded data removed]",
      "text/plain": [
       "<Figure size 432x288 with 1 Axes>"
      ]
     },
     "metadata": {
      "needs_background": "light"
     },
     "output_type": "display_data"
    },
    {
     "name": "stdout",
     "output_type": "stream",
     "text": [
      "This shows cloudiness of a city and it's latitude have no correlation between each other.\n"
     ]
    },
    {
     "data": {
      "text/plain": [
       "<Figure size 432x288 with 0 Axes>"
      ]
     },
     "metadata": {},
     "output_type": "display_data"
    }
   ],
   "source": [
    "x_values = weather_df[\"Latitude\"]\n",
    "y_values = weather_df[\"Cloudiness\"]\n",
    "plt.scatter(x_values, y_values, marker=\"o\", edgecolors=\"black\",color = \"green\")\n",
    "plt.grid(b=True, which=\"major\", linestyle=\"-\")\n",
    "plt.xlabel(\"Latitude\")\n",
    "plt.ylabel(\"Cloudiness\")\n",
    "plt.title(f\"Latitude vs. Cloudiness\")\n",
    "plt.show()\n",
    "         \n",
    "plt.savefig(\"Latitude vs Cloudiness.png\", format='png')         \n",
    "         \n",
    "print(f\"This shows cloudiness of a city and its latitude have no correlation between each other.\")"
   ]
  },
  {
   "cell_type": "markdown",
   "metadata": {},
   "source": [
    "## Latitude vs. Wind Speed Plot"
   ]
  },
  {
   "cell_type": "code",
   "execution_count": 28,
   "metadata": {},
   "outputs": [
    {
     "data": {
      "image/png": "[encoded data removed]",
      "text/plain": [
       "<Figure size 432x288 with 1 Axes>"
      ]
     },
     "metadata": {
      "needs_background": "light"
     },
     "output_type": "display_data"
    },
    {
     "name": "stdout",
     "output_type": "stream",
     "text": [
      "Wind speed of a city has no correlation with its Latitude.\n"
     ]
    },
    {
     "data": {
      "text/plain": [
       "<Figure size 432x288 with 0 Axes>"
      ]
     },
     "metadata": {},
     "output_type": "display_data"
    }
   ],
   "source": [
    "x_values = weather_df[\"Latitude\"]\n",
    "y_values = weather_df[\"Wind Speed\"]\n",
    "plt.scatter(x_values, y_values, marker=\"o\", edgecolors=\"black\",color = \"green\")\n",
    "plt.grid(b=True, which=\"major\", linestyle=\"-\")\n",
    "plt.xlabel(\"Latitude\")\n",
    "plt.ylabel(\"Wind Speed (mph)\")\n",
    "plt.title(f\"Latitude vs. Wind Speed\")\n",
    "plt.show()\n",
    "         \n",
    "plt.savefig(\"Latitude vs Wind Speed.png\", format='png')         \n",
    "         \n",
    "print(f\"Wind speed of a city has no correlation with its Latitude.\")"
   ]
  },
  {
   "cell_type": "markdown",
   "metadata": {},
   "source": [
    "## Linear Regression"
   ]
  },
  {
   "cell_type": "code",
   "execution_count": 57,
   "metadata": {},
   "outputs": [
    {
     "data": {
      "text/html": [
       "<div>\n",
       "<style scoped>\n",
       "    .dataframe tbody tr th:only-of-type {\n",
       "        vertical-align: middle;\n",
       "    }\n",
       "\n",
       "    .dataframe tbody tr th {\n",
       "        vertical-align: top;\n",
       "    }\n",
       "\n",
       "    .dataframe thead th {\n",
       "        text-align: right;\n",
       "    }\n",
       "</style>\n",
       "<table border=\"1\" class=\"dataframe\">\n",
       "  <thead>\n",
       "    <tr style=\"text-align: right;\">\n",
       "      <th></th>\n",
       "      <th>City</th>\n",
       "      <th>Latitude</th>\n",
       "      <th>Longitude</th>\n",
       "      <th>Max Temperature</th>\n",
       "      <th>Humidity</th>\n",
       "      <th>Cloudiness</th>\n",
       "      <th>Wind Speed</th>\n",
       "      <th>Country</th>\n",
       "      <th>Date</th>\n",
       "    </tr>\n",
       "  </thead>\n",
       "  <tbody>\n",
       "    <tr>\n",
       "      <th>1</th>\n",
       "      <td>Upernavik</td>\n",
       "      <td>72.7868</td>\n",
       "      <td>-56.1549</td>\n",
       "      <td>10.47</td>\n",
       "      <td>83</td>\n",
       "      <td>96</td>\n",
       "      <td>8.99</td>\n",
       "      <td>GL</td>\n",
       "      <td>1610251854</td>\n",
       "    </tr>\n",
       "    <tr>\n",
       "      <th>2</th>\n",
       "      <td>Leiyang</td>\n",
       "      <td>26.4024</td>\n",
       "      <td>112.8591</td>\n",
       "      <td>43.83</td>\n",
       "      <td>55</td>\n",
       "      <td>99</td>\n",
       "      <td>5.53</td>\n",
       "      <td>CN</td>\n",
       "      <td>1610252034</td>\n",
       "    </tr>\n",
       "    <tr>\n",
       "      <th>5</th>\n",
       "      <td>Arona</td>\n",
       "      <td>28.0996</td>\n",
       "      <td>-16.6810</td>\n",
       "      <td>57.20</td>\n",
       "      <td>67</td>\n",
       "      <td>20</td>\n",
       "      <td>6.91</td>\n",
       "      <td>ES</td>\n",
       "      <td>1610252118</td>\n",
       "    </tr>\n",
       "    <tr>\n",
       "      <th>6</th>\n",
       "      <td>Puerto Escondido</td>\n",
       "      <td>15.8500</td>\n",
       "      <td>-97.0667</td>\n",
       "      <td>75.16</td>\n",
       "      <td>82</td>\n",
       "      <td>37</td>\n",
       "      <td>0.78</td>\n",
       "      <td>MX</td>\n",
       "      <td>1610252119</td>\n",
       "    </tr>\n",
       "    <tr>\n",
       "      <th>9</th>\n",
       "      <td>Iralaya</td>\n",
       "      <td>15.0000</td>\n",
       "      <td>-83.2333</td>\n",
       "      <td>76.06</td>\n",
       "      <td>85</td>\n",
       "      <td>44</td>\n",
       "      <td>12.75</td>\n",
       "      <td>HN</td>\n",
       "      <td>1610252169</td>\n",
       "    </tr>\n",
       "  </tbody>\n",
       "</table>\n",
       "</div>"
      ],
      "text/plain": [
       "               City  Latitude  Longitude  Max Temperature  Humidity  \\\n",
       "1         Upernavik   72.7868   -56.1549            10.47        83   \n",
       "2           Leiyang   26.4024   112.8591            43.83        55   \n",
       "5             Arona   28.0996   -16.6810            57.20        67   \n",
       "6  Puerto Escondido   15.8500   -97.0667            75.16        82   \n",
       "9           Iralaya   15.0000   -83.2333            76.06        85   \n",
       "\n",
       "   Cloudiness  Wind Speed Country        Date  \n",
       "1          96        8.99      GL  1610251854  \n",
       "2          99        5.53      CN  1610252034  \n",
       "5          20        6.91      ES  1610252118  \n",
       "6          37        0.78      MX  1610252119  \n",
       "9          44       12.75      HN  1610252169  "
      ]
     },
     "execution_count": 57,
     "metadata": {},
     "output_type": "execute_result"
    }
   ],
   "source": [
    "northern_df = weather_df.loc[weather_df[\"Latitude\"] >= 0]\n",
    "southern_df = weather_df.loc[weather_df[\"Latitude\"] < 0]\n",
    "\n",
    "northern_df.head()"
   ]
  },
  {
   "cell_type": "markdown",
   "metadata": {},
   "source": [
    "####  Northern Hemisphere - Max Temp vs. Latitude Linear Regression"
   ]
  },
  {
   "cell_type": "code",
   "execution_count": 60,
   "metadata": {},
   "outputs": [
    {
     "ename": "NameError",
     "evalue": "name 'st' is not defined",
     "output_type": "error",
     "traceback": [
      "\u001b[1;31m---------------------------------------------------------------------------\u001b[0m",
      "\u001b[1;31mNameError\u001b[0m                                 Traceback (most recent call last)",
      "\u001b[1;32m<ipython-input-60-4e39c301469d>\u001b[0m in \u001b[0;36m<module>\u001b[1;34m\u001b[0m\n\u001b[0;32m      1\u001b[0m \u001b[0mx\u001b[0m \u001b[1;33m=\u001b[0m \u001b[0mnorthern_df\u001b[0m\u001b[1;33m[\u001b[0m\u001b[1;34m\"Latitude\"\u001b[0m\u001b[1;33m]\u001b[0m\u001b[1;33m\u001b[0m\u001b[1;33m\u001b[0m\u001b[0m\n\u001b[0;32m      2\u001b[0m \u001b[0my\u001b[0m \u001b[1;33m=\u001b[0m \u001b[0mnorthern_df\u001b[0m\u001b[1;33m[\u001b[0m\u001b[1;34m\"Max Temperature\"\u001b[0m\u001b[1;33m]\u001b[0m\u001b[1;33m\u001b[0m\u001b[1;33m\u001b[0m\u001b[0m\n\u001b[1;32m----> 3\u001b[1;33m \u001b[0mcorrelation\u001b[0m \u001b[1;33m=\u001b[0m \u001b[0mst\u001b[0m\u001b[1;33m.\u001b[0m\u001b[0mpearsonr\u001b[0m\u001b[1;33m(\u001b[0m\u001b[0mx\u001b[0m\u001b[1;33m,\u001b[0m\u001b[0my\u001b[0m\u001b[1;33m)\u001b[0m\u001b[1;33m[\u001b[0m\u001b[1;36m0\u001b[0m\u001b[1;33m]\u001b[0m\u001b[1;33m\u001b[0m\u001b[1;33m\u001b[0m\u001b[0m\n\u001b[0m\u001b[0;32m      4\u001b[0m \u001b[0mprint\u001b[0m\u001b[1;33m(\u001b[0m\u001b[1;34mf\" The R-squared value : {correlation}\"\u001b[0m\u001b[1;33m)\u001b[0m\u001b[1;33m\u001b[0m\u001b[1;33m\u001b[0m\u001b[0m\n\u001b[0;32m      5\u001b[0m \u001b[1;33m\u001b[0m\u001b[0m\n",
      "\u001b[1;31mNameError\u001b[0m: name 'st' is not defined"
     ]
    }
   ],
   "source": [
    "x = northern_df[\"Latitude\"]\n",
    "y = northern_df[\"Max Temperature\"]\n",
    "correlation = st.pearsonr(x,y)[0]\n",
    "print(f\" The r-value is: {correlation}\")\n",
    "\n",
    "slope, intercept, r, p, std = linregress(x,y)\n",
    "regression = slope * x + intercept\n",
    "line = \"y = \" + str(round(slope, 2))+\"x +\" + str(round(intercept,2))\n",
    "\n",
    "\n",
    "plt.scatter(x,y, marker=\"o\")\n",
    "plt.plot(x_values,regression,\"r-\")\n",
    "plt.annotate(line,(6,10),fontsize=14,color=\"red\")\n",
    "plt.xlabel(\"Latitude\")\n",
    "plt.ylabel(\"Temperature (F°)\")\n",
    "plt.title(\"Northern Hemisphere Temperature vs. Latitude Linear Regression\")\n",
    "\n",
    "\n",
    "plt.show()\n",
    " #######???????????????????????????????????????????           "
   ]
  },
  {
   "cell_type": "markdown",
   "metadata": {},
   "source": [
    "####  Southern Hemisphere - Max Temp vs. Latitude Linear Regression"
   ]
  },
  {
   "cell_type": "code",
   "execution_count": 26,
   "metadata": {},
   "outputs": [
    {
     "name": "stdout",
     "output_type": "stream",
     "text": [
      "The r-value is: 0.6082708688906918\n"
     ]
    },
    {
     "data": {
      "image/png": "[encoded data removed]",
      "text/plain": [
       "<Figure size 432x288 with 1 Axes>"
      ]
     },
     "metadata": {
      "needs_background": "light"
     },
     "output_type": "display_data"
    }
   ],
   "source": [
    "\n",
    "            "
   ]
  },
  {
   "cell_type": "markdown",
   "metadata": {},
   "source": [
    "####  Northern Hemisphere - Humidity (%) vs. Latitude Linear Regression"
   ]
  },
  {
   "cell_type": "code",
   "execution_count": 27,
   "metadata": {},
   "outputs": [
    {
     "name": "stdout",
     "output_type": "stream",
     "text": [
      "The r-value is: 0.000543987878808455\n"
     ]
    },
    {
     "data": {
      "image/png": "[encoded data removed]",
      "text/plain": [
       "<Figure size 432x288 with 1 Axes>"
      ]
     },
     "metadata": {
      "needs_background": "light"
     },
     "output_type": "display_data"
    }
   ],
   "source": []
  },
  {
   "cell_type": "markdown",
   "metadata": {},
   "source": [
    "####  Southern Hemisphere - Humidity (%) vs. Latitude Linear Regression"
   ]
  },
  {
   "cell_type": "code",
   "execution_count": 28,
   "metadata": {},
   "outputs": [
    {
     "name": "stdout",
     "output_type": "stream",
     "text": [
      "The r-value is: 0.014985174297345524\n"
     ]
    },
    {
     "data": {
      "image/png": "[encoded data removed]",
      "text/plain": [
       "<Figure size 432x288 with 1 Axes>"
      ]
     },
     "metadata": {
      "needs_background": "light"
     },
     "output_type": "display_data"
    }
   ],
   "source": [
    " "
   ]
  },
  {
   "cell_type": "markdown",
   "metadata": {},
   "source": [
    "####  Northern Hemisphere - Cloudiness (%) vs. Latitude Linear Regression"
   ]
  },
  {
   "cell_type": "code",
   "execution_count": 29,
   "metadata": {},
   "outputs": [
    {
     "name": "stdout",
     "output_type": "stream",
     "text": [
      "The r-value is: 0.0020898727664228514\n"
     ]
    },
    {
     "data": {
      "image/png": "[encoded data removed]",
      "text/plain": [
       "<Figure size 432x288 with 1 Axes>"
      ]
     },
     "metadata": {
      "needs_background": "light"
     },
     "output_type": "display_data"
    }
   ],
   "source": []
  },
  {
   "cell_type": "markdown",
   "metadata": {},
   "source": [
    "####  Southern Hemisphere - Cloudiness (%) vs. Latitude Linear Regression"
   ]
  },
  {
   "cell_type": "code",
   "execution_count": 30,
   "metadata": {},
   "outputs": [
    {
     "name": "stdout",
     "output_type": "stream",
     "text": [
      "The r-value is: 0.0035263772085582894\n"
     ]
    },
    {
     "data": {
      "image/png": "[encoded data removed]",
      "text/plain": [
       "<Figure size 432x288 with 1 Axes>"
      ]
     },
     "metadata": {
      "needs_background": "light"
     },
     "output_type": "display_data"
    }
   ],
   "source": [
    "\n",
    "            "
   ]
  },
  {
   "cell_type": "markdown",
   "metadata": {},
   "source": [
    "####  Northern Hemisphere - Wind Speed (mph) vs. Latitude Linear Regression"
   ]
  },
  {
   "cell_type": "code",
   "execution_count": 31,
   "metadata": {},
   "outputs": [
    {
     "name": "stdout",
     "output_type": "stream",
     "text": [
      "The r-value is: 0.04019723576144484\n"
     ]
    },
    {
     "data": {
      "image/png": "[encoded data removed]",
      "text/plain": [
       "<Figure size 432x288 with 1 Axes>"
      ]
     },
     "metadata": {
      "needs_background": "light"
     },
     "output_type": "display_data"
    }
   ],
   "source": [
    "\n",
    "            "
   ]
  },
  {
   "cell_type": "markdown",
   "metadata": {},
   "source": [
    "####  Southern Hemisphere - Wind Speed (mph) vs. Latitude Linear Regression"
   ]
  },
  {
   "cell_type": "code",
   "execution_count": 32,
   "metadata": {},
   "outputs": [
    {
     "name": "stdout",
     "output_type": "stream",
     "text": [
      "The r-value is: 0.017128274759839232\n"
     ]
    },
    {
     "data": {
      "image/png": "[encoded data removed]",
      "text/plain": [
       "<Figure size 432x288 with 1 Axes>"
      ]
     },
     "metadata": {
      "needs_background": "light"
     },
     "output_type": "display_data"
    }
   ],
   "source": [
    "x"
   ]
  },
  {
   "cell_type": "code",
   "execution_count": null,
   "metadata": {},
   "outputs": [],
   "source": []
  }
 ],
 "metadata": {
  "anaconda-cloud": {},
  "kernel_info": {
   "name": "python3"
  },
  "kernelspec": {
   "display_name": "Python 3",
   "language": "python",
   "name": "python3"
  },
  "language_info": {
   "codemirror_mode": {
    "name": "ipython",
    "version": 3
   },
   "file_extension": ".py",
   "mimetype": "text/x-python",
   "name": "python",
   "nbconvert_exporter": "python",
   "pygments_lexer": "ipython3",
   "version": "3.8.3"
  },
  "latex_envs": {
   "LaTeX_envs_menu_present": true,
   "autoclose": false,
   "autocomplete": true,
   "bibliofile": "biblio.bib",
   "cite_by": "apalike",
   "current_citInitial": 1,
   "eqLabelWithNumbers": true,
   "eqNumInitial": 1,
   "hotkeys": {
    "equation": "Ctrl-E",
    "itemize": "Ctrl-I"
   },
   "labels_anchors": false,
   "latex_user_defs": false,
   "report_style_numbering": false,
   "user_envs_cfg": false
  },
  "nteract": {
   "version": "0.12.3"
  }
 },
 "nbformat": 4,
 "nbformat_minor": 2
}
